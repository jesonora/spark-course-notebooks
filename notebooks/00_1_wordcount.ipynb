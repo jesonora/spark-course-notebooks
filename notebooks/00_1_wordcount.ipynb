{
 "cells": [
  {
   "cell_type": "markdown",
   "id": "217f9e63",
   "metadata": {},
   "source": [
    "## Import libraries\n",
    "### Python"
   ]
  },
  {
   "cell_type": "code",
   "execution_count": 1,
   "id": "7c574b9e",
   "metadata": {},
   "outputs": [],
   "source": [
    "import pandas as pd\n",
    "import numpy as np\n",
    "import os\n",
    "import warnings\n",
    "import datetime\n",
    "\n",
    "pd.set_option('display.float_format', lambda x : '{:,.2f}'.format(x))\n",
    "warnings.filterwarnings(\"ignore\")\n",
    "pd.set_option('display.max_columns', None)"
   ]
  },
  {
   "cell_type": "code",
   "execution_count": null,
   "id": "8b425eb5",
   "metadata": {},
   "outputs": [],
   "source": [
    "if not ('sc' in locals() or 'sc' in globals()):\n",
    "    from pyspark import SparkContext, SparkConf\n",
    "    from pyspark.sql import SparkSession\n",
    "    \n",
    "    conf = SparkConf()\n",
    "    conf.setMaster('local[*]')\n",
    "    conf.set('spark.app.name', 'template')\n",
    "\n",
    "\n",
    "    sc = SparkContext.getOrCreate(SparkContext(conf=conf))\n",
    "    \n",
    "    spark = SparkSession \\\n",
    "        .builder \\\n",
    "        .getOrCreate()"
   ]
  },
  {
   "cell_type": "code",
   "execution_count": null,
   "id": "288a1e70",
   "metadata": {},
   "outputs": [],
   "source": [
    "# Distribute the data - Create a RDD \n",
    "file = sc.textFile(\"../data/el_quijote.txt\")"
   ]
  },
  {
   "cell_type": "code",
   "execution_count": null,
   "id": "7e668699",
   "metadata": {},
   "outputs": [],
   "source": [
    "file.take(3)"
   ]
  },
  {
   "cell_type": "code",
   "execution_count": null,
   "id": "422eb5c0",
   "metadata": {},
   "outputs": [],
   "source": [
    "# Create a list with all words, Create tuple (word,1), reduce by key i.e. the word\n",
    "counts = (lines.flatMap(lambda x: x.split(' '))          \n",
    "                  .map(lambda x: (x, 1))                 \n",
    "                  .reduceByKey(lambda x,y : x + y))"
   ]
  },
  {
   "cell_type": "code",
   "execution_count": null,
   "id": "86215025",
   "metadata": {},
   "outputs": [],
   "source": [
    "# get the output on local\n",
    "output = counts.take(10)                                 "
   ]
  },
  {
   "cell_type": "code",
   "execution_count": null,
   "id": "66bd0bd3",
   "metadata": {},
   "outputs": [],
   "source": [
    "# print output\n",
    "for (word, count) in output:                             \n",
    "    print(\"%s: %i\" % (word, count))"
   ]
  },
  {
   "cell_type": "code",
   "execution_count": null,
   "id": "6e31e6e5",
   "metadata": {},
   "outputs": [],
   "source": []
  }
 ],
 "metadata": {
  "kernelspec": {
   "display_name": "Python 3 (ipykernel)",
   "language": "python",
   "name": "python3"
  },
  "language_info": {
   "codemirror_mode": {
    "name": "ipython",
    "version": 3
   },
   "file_extension": ".py",
   "mimetype": "text/x-python",
   "name": "python",
   "nbconvert_exporter": "python",
   "pygments_lexer": "ipython3",
   "version": "3.9.7"
  }
 },
 "nbformat": 4,
 "nbformat_minor": 5
}
