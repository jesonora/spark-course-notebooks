{
 "cells": [
  {
   "cell_type": "markdown",
   "id": "217f9e63",
   "metadata": {},
   "source": [
    "## Movielens"
   ]
  },
  {
   "cell_type": "code",
   "execution_count": 1,
   "id": "7c574b9e",
   "metadata": {},
   "outputs": [],
   "source": [
    "import pandas as pd\n",
    "import numpy as np\n",
    "import os\n",
    "import warnings\n",
    "import datetime\n",
    "\n",
    "pd.set_option('display.float_format', lambda x : '{:,.2f}'.format(x))\n",
    "warnings.filterwarnings(\"ignore\")\n",
    "pd.set_option('display.max_columns', None)"
   ]
  },
  {
   "cell_type": "code",
   "execution_count": 2,
   "id": "8b425eb5",
   "metadata": {},
   "outputs": [
    {
     "name": "stderr",
     "output_type": "stream",
     "text": [
      "21/11/16 10:05:00 WARN NativeCodeLoader: Unable to load native-hadoop library for your platform... using builtin-java classes where applicable\n",
      "Using Spark's default log4j profile: org/apache/spark/log4j-defaults.properties\n",
      "Setting default log level to \"WARN\".\n",
      "To adjust logging level use sc.setLogLevel(newLevel). For SparkR, use setLogLevel(newLevel).\n"
     ]
    }
   ],
   "source": [
    "if not ('sc' in locals() or 'sc' in globals()):\n",
    "    from pyspark import SparkContext, SparkConf\n",
    "    from pyspark.sql import SparkSession\n",
    "    \n",
    "    conf = SparkConf()\n",
    "    conf.setMaster('spark://spark-master:7077')\n",
    "    conf.set('spark.executor.memory', '512m')\n",
    "    conf.set('spark.app.name', 'basics')\n",
    "\n",
    "\n",
    "    sc = SparkContext.getOrCreate(SparkContext(conf=conf))\n",
    "    \n",
    "    spark = SparkSession \\\n",
    "        .builder \\\n",
    "        .getOrCreate()"
   ]
  },
  {
   "cell_type": "markdown",
   "id": "d58b7a77",
   "metadata": {},
   "source": [
    "## Context\n",
    "### Exercise 1\n",
    "__We want to know the 25 most rated movie titles from this data. How many times a movie has been rated?__\n",
    "\n",
    "#### Users\n",
    "Users: This file name is kept as “u.user”, The columns in this file are:\n",
    "\n",
    "```python\n",
    "['user_id', 'age', 'sex', 'occupation', 'zip_code']\n",
    "```\n",
    "\n",
    "#### Ratings\n",
    "Ratings: This file name is kept as “u.data”, The columns in this file are:\n",
    "\n",
    "```python\n",
    "['user_id', 'movie_id', 'rating', 'unix_timestamp']\n",
    "```\n",
    "\n",
    "#### Movies\n",
    "Movies: This file name is kept as “u.item”, The columns in this file are:\n",
    "\n",
    "```python\n",
    "['movie_id', 'title', 'release_date', 'video_release_date', 'imdb_url', and 18 more columns.....]\n",
    "```"
   ]
  },
  {
   "cell_type": "markdown",
   "id": "ece81c1a",
   "metadata": {},
   "source": [
    "#### Load data\n",
    "The firs step is to see how the data looks like\n",
    "\n",
    "More info: https://docs.databricks.com/spark/latest/dataframes-datasets/introduction-to-dataframes-python.html#dataframe-faqs"
   ]
  },
  {
   "cell_type": "code",
   "execution_count": 3,
   "id": "0f52de22",
   "metadata": {},
   "outputs": [
    {
     "name": "stderr",
     "output_type": "stream",
     "text": [
      "                                                                                \r"
     ]
    },
    {
     "data": {
      "text/plain": [
       "['1|24|M|technician|85711']"
      ]
     },
     "execution_count": 3,
     "metadata": {},
     "output_type": "execute_result"
    }
   ],
   "source": [
    "userRDD = sc.textFile(\"../data/u.user\") \n",
    "userRDD.take(1)"
   ]
  },
  {
   "cell_type": "code",
   "execution_count": 6,
   "id": "df0ed818",
   "metadata": {},
   "outputs": [
    {
     "name": "stdout",
     "output_type": "stream",
     "text": [
      "root\n",
      " |-- user_id: string (nullable = true)\n",
      " |-- age: string (nullable = true)\n",
      " |-- sex: string (nullable = true)\n",
      " |-- occupation: string (nullable = true)\n",
      " |-- zip_code: string (nullable = true)\n",
      "\n"
     ]
    }
   ],
   "source": [
    "df_user = spark.read.format(\"csv\").options(header='false', delimiter = '|').load(\"../data/u.user\")\n",
    "df_user = df_user.toDF('user_id', 'age', 'sex', 'occupation', 'zip_code')\n",
    "\n",
    "df_user.printSchema()"
   ]
  },
  {
   "cell_type": "code",
   "execution_count": 17,
   "id": "8c3b28fb",
   "metadata": {},
   "outputs": [
    {
     "name": "stdout",
     "output_type": "stream",
     "text": [
      "+-------+---+---+----------+--------+\n",
      "|user_id|age|sex|occupation|zip_code|\n",
      "+-------+---+---+----------+--------+\n",
      "|      1| 24|  M|technician|   85711|\n",
      "|      2| 53|  F|     other|   94043|\n",
      "|      3| 23|  M|    writer|   32067|\n",
      "|      4| 24|  M|technician|   43537|\n",
      "|      5| 33|  F|     other|   15213|\n",
      "+-------+---+---+----------+--------+\n",
      "only showing top 5 rows\n",
      "\n"
     ]
    }
   ],
   "source": [
    "df_user.show(5)"
   ]
  },
  {
   "cell_type": "code",
   "execution_count": 4,
   "id": "aff5b782",
   "metadata": {},
   "outputs": [
    {
     "data": {
      "text/plain": [
       "['196\\t242\\t3\\t881250949']"
      ]
     },
     "execution_count": 4,
     "metadata": {},
     "output_type": "execute_result"
    }
   ],
   "source": [
    "ratingRDD = sc.textFile(\"../data/u.data\") \n",
    "ratingRDD.take(1)"
   ]
  },
  {
   "cell_type": "code",
   "execution_count": 11,
   "id": "3a98ff6f",
   "metadata": {},
   "outputs": [
    {
     "name": "stdout",
     "output_type": "stream",
     "text": [
      "root\n",
      " |-- user_id: string (nullable = true)\n",
      " |-- movie_id: string (nullable = true)\n",
      " |-- rating: string (nullable = true)\n",
      " |-- unix_timestamp: string (nullable = true)\n",
      "\n"
     ]
    }
   ],
   "source": [
    "df_rating = spark.read.format(\"csv\").options(header='false', delimiter = '\\t').load(\"../data/u.data\")\n",
    "df_rating = df_rating.toDF('user_id', 'movie_id', 'rating', 'unix_timestamp')\n",
    "\n",
    "df_rating.printSchema()"
   ]
  },
  {
   "cell_type": "code",
   "execution_count": 18,
   "id": "23686039",
   "metadata": {},
   "outputs": [
    {
     "name": "stdout",
     "output_type": "stream",
     "text": [
      "+-------+--------+------+--------------+\n",
      "|user_id|movie_id|rating|unix_timestamp|\n",
      "+-------+--------+------+--------------+\n",
      "|    196|     242|     3|     881250949|\n",
      "|    186|     302|     3|     891717742|\n",
      "|     22|     377|     1|     878887116|\n",
      "|    244|      51|     2|     880606923|\n",
      "|    166|     346|     1|     886397596|\n",
      "+-------+--------+------+--------------+\n",
      "only showing top 5 rows\n",
      "\n"
     ]
    }
   ],
   "source": [
    "df_rating.show(5)"
   ]
  },
  {
   "cell_type": "code",
   "execution_count": 27,
   "id": "7d3c4d82",
   "metadata": {},
   "outputs": [
    {
     "data": {
      "text/plain": [
       "['1|Toy Story (1995)|01-Jan-1995||http://us.imdb.com/M/title-exact?Toy%20Story%20(1995)|0|0|0|1|1|1|0|0|0|0|0|0|0|0|0|0|0|0|0']"
      ]
     },
     "execution_count": 27,
     "metadata": {},
     "output_type": "execute_result"
    }
   ],
   "source": [
    "movieRDD = sc.textFile(\"../data/u.item\") \n",
    "movieRDD.take(1)"
   ]
  },
  {
   "cell_type": "code",
   "execution_count": 28,
   "id": "df7ce221",
   "metadata": {},
   "outputs": [
    {
     "name": "stdout",
     "output_type": "stream",
     "text": [
      "root\n",
      " |-- movie_id: string (nullable = true)\n",
      " |-- movie_title: string (nullable = true)\n",
      " |-- release date: string (nullable = true)\n",
      " |-- video_release date: string (nullable = true)\n",
      " |-- IMDb_URL: string (nullable = true)\n",
      " |-- unknown: string (nullable = true)\n",
      " |-- Action: string (nullable = true)\n",
      " |-- Adventure: string (nullable = true)\n",
      " |-- Animation: string (nullable = true)\n",
      " |-- Children's: string (nullable = true)\n",
      " |-- Comedy: string (nullable = true)\n",
      " |-- Crime: string (nullable = true)\n",
      " |-- Documentary: string (nullable = true)\n",
      " |-- Drama: string (nullable = true)\n",
      " |-- Fantasy: string (nullable = true)\n",
      " |-- Film-Noir: string (nullable = true)\n",
      " |-- Horror: string (nullable = true)\n",
      " |-- Musical: string (nullable = true)\n",
      " |-- Mystery: string (nullable = true)\n",
      " |-- Romance: string (nullable = true)\n",
      " |-- Sci-Fi: string (nullable = true)\n",
      " |-- Thriller: string (nullable = true)\n",
      " |-- War: string (nullable = true)\n",
      " |-- Western: string (nullable = true)\n",
      "\n"
     ]
    }
   ],
   "source": [
    "df_movie = spark.read.format(\"csv\").options(header='false', delimiter = '|').load(\"../data/u.item\")\n",
    "df_movie = df_movie.toDF('movie_id', 'movie_title' ,'release date','video_release date', 'IMDb_URL', 'unknown', 'Action', \n",
    "                'Adventure', 'Animation', 'Children\\'s', 'Comedy', 'Crime', 'Documentary', 'Drama', 'Fantasy', 'Film-Noir', \n",
    "                'Horror', 'Musical', 'Mystery', 'Romance', 'Sci-Fi', 'Thriller', 'War', 'Western')\n",
    "\n",
    "df_movie.printSchema()"
   ]
  },
  {
   "cell_type": "code",
   "execution_count": 29,
   "id": "5040e2af",
   "metadata": {},
   "outputs": [
    {
     "data": {
      "text/html": [
       "<div>\n",
       "<style scoped>\n",
       "    .dataframe tbody tr th:only-of-type {\n",
       "        vertical-align: middle;\n",
       "    }\n",
       "\n",
       "    .dataframe tbody tr th {\n",
       "        vertical-align: top;\n",
       "    }\n",
       "\n",
       "    .dataframe thead th {\n",
       "        text-align: right;\n",
       "    }\n",
       "</style>\n",
       "<table border=\"1\" class=\"dataframe\">\n",
       "  <thead>\n",
       "    <tr style=\"text-align: right;\">\n",
       "      <th></th>\n",
       "      <th>movie_id</th>\n",
       "      <th>movie_title</th>\n",
       "      <th>release date</th>\n",
       "      <th>video_release date</th>\n",
       "      <th>IMDb_URL</th>\n",
       "      <th>unknown</th>\n",
       "      <th>Action</th>\n",
       "      <th>Adventure</th>\n",
       "      <th>Animation</th>\n",
       "      <th>Children's</th>\n",
       "      <th>Comedy</th>\n",
       "      <th>Crime</th>\n",
       "      <th>Documentary</th>\n",
       "      <th>Drama</th>\n",
       "      <th>Fantasy</th>\n",
       "      <th>Film-Noir</th>\n",
       "      <th>Horror</th>\n",
       "      <th>Musical</th>\n",
       "      <th>Mystery</th>\n",
       "      <th>Romance</th>\n",
       "      <th>Sci-Fi</th>\n",
       "      <th>Thriller</th>\n",
       "      <th>War</th>\n",
       "      <th>Western</th>\n",
       "    </tr>\n",
       "  </thead>\n",
       "  <tbody>\n",
       "    <tr>\n",
       "      <th>0</th>\n",
       "      <td>1</td>\n",
       "      <td>Toy Story (1995)</td>\n",
       "      <td>01-Jan-1995</td>\n",
       "      <td>None</td>\n",
       "      <td>http://us.imdb.com/M/title-exact?Toy%20Story%2...</td>\n",
       "      <td>0</td>\n",
       "      <td>0</td>\n",
       "      <td>0</td>\n",
       "      <td>1</td>\n",
       "      <td>1</td>\n",
       "      <td>1</td>\n",
       "      <td>0</td>\n",
       "      <td>0</td>\n",
       "      <td>0</td>\n",
       "      <td>0</td>\n",
       "      <td>0</td>\n",
       "      <td>0</td>\n",
       "      <td>0</td>\n",
       "      <td>0</td>\n",
       "      <td>0</td>\n",
       "      <td>0</td>\n",
       "      <td>0</td>\n",
       "      <td>0</td>\n",
       "      <td>0</td>\n",
       "    </tr>\n",
       "    <tr>\n",
       "      <th>1</th>\n",
       "      <td>2</td>\n",
       "      <td>GoldenEye (1995)</td>\n",
       "      <td>01-Jan-1995</td>\n",
       "      <td>None</td>\n",
       "      <td>http://us.imdb.com/M/title-exact?GoldenEye%20(...</td>\n",
       "      <td>0</td>\n",
       "      <td>1</td>\n",
       "      <td>1</td>\n",
       "      <td>0</td>\n",
       "      <td>0</td>\n",
       "      <td>0</td>\n",
       "      <td>0</td>\n",
       "      <td>0</td>\n",
       "      <td>0</td>\n",
       "      <td>0</td>\n",
       "      <td>0</td>\n",
       "      <td>0</td>\n",
       "      <td>0</td>\n",
       "      <td>0</td>\n",
       "      <td>0</td>\n",
       "      <td>0</td>\n",
       "      <td>1</td>\n",
       "      <td>0</td>\n",
       "      <td>0</td>\n",
       "    </tr>\n",
       "    <tr>\n",
       "      <th>2</th>\n",
       "      <td>3</td>\n",
       "      <td>Four Rooms (1995)</td>\n",
       "      <td>01-Jan-1995</td>\n",
       "      <td>None</td>\n",
       "      <td>http://us.imdb.com/M/title-exact?Four%20Rooms%...</td>\n",
       "      <td>0</td>\n",
       "      <td>0</td>\n",
       "      <td>0</td>\n",
       "      <td>0</td>\n",
       "      <td>0</td>\n",
       "      <td>0</td>\n",
       "      <td>0</td>\n",
       "      <td>0</td>\n",
       "      <td>0</td>\n",
       "      <td>0</td>\n",
       "      <td>0</td>\n",
       "      <td>0</td>\n",
       "      <td>0</td>\n",
       "      <td>0</td>\n",
       "      <td>0</td>\n",
       "      <td>0</td>\n",
       "      <td>1</td>\n",
       "      <td>0</td>\n",
       "      <td>0</td>\n",
       "    </tr>\n",
       "    <tr>\n",
       "      <th>3</th>\n",
       "      <td>4</td>\n",
       "      <td>Get Shorty (1995)</td>\n",
       "      <td>01-Jan-1995</td>\n",
       "      <td>None</td>\n",
       "      <td>http://us.imdb.com/M/title-exact?Get%20Shorty%...</td>\n",
       "      <td>0</td>\n",
       "      <td>1</td>\n",
       "      <td>0</td>\n",
       "      <td>0</td>\n",
       "      <td>0</td>\n",
       "      <td>1</td>\n",
       "      <td>0</td>\n",
       "      <td>0</td>\n",
       "      <td>1</td>\n",
       "      <td>0</td>\n",
       "      <td>0</td>\n",
       "      <td>0</td>\n",
       "      <td>0</td>\n",
       "      <td>0</td>\n",
       "      <td>0</td>\n",
       "      <td>0</td>\n",
       "      <td>0</td>\n",
       "      <td>0</td>\n",
       "      <td>0</td>\n",
       "    </tr>\n",
       "    <tr>\n",
       "      <th>4</th>\n",
       "      <td>5</td>\n",
       "      <td>Copycat (1995)</td>\n",
       "      <td>01-Jan-1995</td>\n",
       "      <td>None</td>\n",
       "      <td>http://us.imdb.com/M/title-exact?Copycat%20(1995)</td>\n",
       "      <td>0</td>\n",
       "      <td>0</td>\n",
       "      <td>0</td>\n",
       "      <td>0</td>\n",
       "      <td>0</td>\n",
       "      <td>0</td>\n",
       "      <td>1</td>\n",
       "      <td>0</td>\n",
       "      <td>1</td>\n",
       "      <td>0</td>\n",
       "      <td>0</td>\n",
       "      <td>0</td>\n",
       "      <td>0</td>\n",
       "      <td>0</td>\n",
       "      <td>0</td>\n",
       "      <td>0</td>\n",
       "      <td>1</td>\n",
       "      <td>0</td>\n",
       "      <td>0</td>\n",
       "    </tr>\n",
       "  </tbody>\n",
       "</table>\n",
       "</div>"
      ],
      "text/plain": [
       "  movie_id        movie_title release date video_release date  \\\n",
       "0        1   Toy Story (1995)  01-Jan-1995               None   \n",
       "1        2   GoldenEye (1995)  01-Jan-1995               None   \n",
       "2        3  Four Rooms (1995)  01-Jan-1995               None   \n",
       "3        4  Get Shorty (1995)  01-Jan-1995               None   \n",
       "4        5     Copycat (1995)  01-Jan-1995               None   \n",
       "\n",
       "                                            IMDb_URL unknown Action Adventure  \\\n",
       "0  http://us.imdb.com/M/title-exact?Toy%20Story%2...       0      0         0   \n",
       "1  http://us.imdb.com/M/title-exact?GoldenEye%20(...       0      1         1   \n",
       "2  http://us.imdb.com/M/title-exact?Four%20Rooms%...       0      0         0   \n",
       "3  http://us.imdb.com/M/title-exact?Get%20Shorty%...       0      1         0   \n",
       "4  http://us.imdb.com/M/title-exact?Copycat%20(1995)       0      0         0   \n",
       "\n",
       "  Animation Children's Comedy Crime Documentary Drama Fantasy Film-Noir  \\\n",
       "0         1          1      1     0           0     0       0         0   \n",
       "1         0          0      0     0           0     0       0         0   \n",
       "2         0          0      0     0           0     0       0         0   \n",
       "3         0          0      1     0           0     1       0         0   \n",
       "4         0          0      0     1           0     1       0         0   \n",
       "\n",
       "  Horror Musical Mystery Romance Sci-Fi Thriller War Western  \n",
       "0      0       0       0       0      0        0   0       0  \n",
       "1      0       0       0       0      0        1   0       0  \n",
       "2      0       0       0       0      0        1   0       0  \n",
       "3      0       0       0       0      0        0   0       0  \n",
       "4      0       0       0       0      0        1   0       0  "
      ]
     },
     "execution_count": 29,
     "metadata": {},
     "output_type": "execute_result"
    }
   ],
   "source": [
    "df_movie.limit(5).toPandas()"
   ]
  },
  {
   "cell_type": "markdown",
   "id": "b854c773",
   "metadata": {},
   "source": [
    "#### Merge\n"
   ]
  },
  {
   "cell_type": "code",
   "execution_count": 30,
   "id": "4672803d",
   "metadata": {},
   "outputs": [],
   "source": [
    "rating_movie = df_rating.join(df_movie.select(['movie_id', 'movie_title']), \n",
    "                              df_movie.movie_id == df_rating.movie_id, \n",
    "                              how='left')"
   ]
  },
  {
   "cell_type": "code",
   "execution_count": 34,
   "id": "24250e26",
   "metadata": {},
   "outputs": [
    {
     "name": "stdout",
     "output_type": "stream",
     "text": [
      "+-------+--------+------+--------------+--------+--------------------+\n",
      "|user_id|movie_id|rating|unix_timestamp|movie_id|         movie_title|\n",
      "+-------+--------+------+--------------+--------+--------------------+\n",
      "|    196|     242|     3|     881250949|     242|        Kolya (1996)|\n",
      "|    186|     302|     3|     891717742|     302|L.A. Confidential...|\n",
      "|     22|     377|     1|     878887116|     377| Heavyweights (1994)|\n",
      "|    244|      51|     2|     880606923|      51|Legends of the Fa...|\n",
      "|    166|     346|     1|     886397596|     346| Jackie Brown (1997)|\n",
      "+-------+--------+------+--------------+--------+--------------------+\n",
      "only showing top 5 rows\n",
      "\n"
     ]
    }
   ],
   "source": [
    "rating_movie.show(5, truncate=True)"
   ]
  },
  {
   "cell_type": "markdown",
   "id": "1102d161",
   "metadata": {},
   "source": [
    "Use the RDD in previous step to create (movie, 1) tuple pair RDD"
   ]
  },
  {
   "cell_type": "code",
   "execution_count": 41,
   "id": "ca657352",
   "metadata": {},
   "outputs": [
    {
     "name": "stderr",
     "output_type": "stream",
     "text": [
      "[Stage 45:=====================================================>(197 + 2) / 200]\r"
     ]
    },
    {
     "name": "stdout",
     "output_type": "stream",
     "text": [
      "+--------------------+------+\n",
      "|         movie_title|counts|\n",
      "+--------------------+------+\n",
      "|    Star Wars (1977)|   583|\n",
      "|      Contact (1997)|   509|\n",
      "|        Fargo (1996)|   508|\n",
      "|Return of the Jed...|   507|\n",
      "|    Liar Liar (1997)|   485|\n",
      "+--------------------+------+\n",
      "only showing top 5 rows\n",
      "\n"
     ]
    },
    {
     "name": "stderr",
     "output_type": "stream",
     "text": [
      "\r",
      "                                                                                \r"
     ]
    }
   ],
   "source": [
    "from pyspark.sql.functions import count, col\n",
    "\n",
    "(rating_movie\n",
    " .groupby(['movie_title'])\n",
    " .agg(count(col('rating')).alias('counts'))\n",
    " .sort(col('counts').desc())\n",
    " .show(5, truncate=True))"
   ]
  },
  {
   "cell_type": "markdown",
   "id": "8ec9e917",
   "metadata": {},
   "source": [
    "### Exercise 2\n",
    "\n",
    "__Now we want to find the most highly rated 25 movies using the same dataset. We actually want only those movies which have been rated at least 100 times.__"
   ]
  },
  {
   "cell_type": "code",
   "execution_count": 45,
   "id": "2c0b6082",
   "metadata": {},
   "outputs": [
    {
     "name": "stderr",
     "output_type": "stream",
     "text": [
      "[Stage 57:=========================================>            (154 + 1) / 200]\r"
     ]
    },
    {
     "name": "stdout",
     "output_type": "stream",
     "text": [
      "+--------------------+------+--------+-----------------+\n",
      "|         movie_title|counts|sum_rate|        mean_rate|\n",
      "+--------------------+------+--------+-----------------+\n",
      "|Close Shave, A (1...|   112|   503.0|4.491071428571429|\n",
      "|Schindler's List ...|   298|  1331.0|4.466442953020135|\n",
      "|Wrong Trousers, T...|   118|   527.0|4.466101694915254|\n",
      "|   Casablanca (1942)|   243|  1083.0| 4.45679012345679|\n",
      "|Shawshank Redempt...|   283|  1258.0|4.445229681978798|\n",
      "+--------------------+------+--------+-----------------+\n",
      "only showing top 5 rows\n",
      "\n"
     ]
    },
    {
     "name": "stderr",
     "output_type": "stream",
     "text": [
      "\r",
      "[Stage 57:================================================>     (179 + 1) / 200]\r",
      "\r",
      "                                                                                \r"
     ]
    }
   ],
   "source": [
    "from pyspark.sql.functions import sum\n",
    "\n",
    "(rating_movie\n",
    " .groupby(['movie_title'])\n",
    " .agg(count(col('rating')).alias('counts'),\n",
    "      sum(col('rating')).alias('sum_rate'))\n",
    " .filter(col('counts') >= 100)\n",
    " .withColumn('mean_rate', col('sum_rate') / col('counts'))\n",
    " .sort(col('mean_rate').desc())\n",
    " .show(5))"
   ]
  }
 ],
 "metadata": {
  "kernelspec": {
   "display_name": "Python 3 (ipykernel)",
   "language": "python",
   "name": "python3"
  },
  "language_info": {
   "codemirror_mode": {
    "name": "ipython",
    "version": 3
   },
   "file_extension": ".py",
   "mimetype": "text/x-python",
   "name": "python",
   "nbconvert_exporter": "python",
   "pygments_lexer": "ipython3",
   "version": "3.9.2"
  }
 },
 "nbformat": 4,
 "nbformat_minor": 5
}
