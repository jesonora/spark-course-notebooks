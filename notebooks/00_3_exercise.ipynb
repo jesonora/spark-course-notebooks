{
 "cells": [
  {
   "cell_type": "markdown",
   "id": "217f9e63",
   "metadata": {},
   "source": [
    "## Movielens"
   ]
  },
  {
   "cell_type": "code",
   "execution_count": 8,
   "id": "7c574b9e",
   "metadata": {},
   "outputs": [],
   "source": [
    "import pandas as pd\n",
    "import numpy as np\n",
    "import os\n",
    "import warnings\n",
    "import datetime\n",
    "\n",
    "pd.set_option('display.float_format', lambda x : '{:,.2f}'.format(x))\n",
    "warnings.filterwarnings(\"ignore\")\n",
    "pd.set_option('display.max_columns', None)"
   ]
  },
  {
   "cell_type": "code",
   "execution_count": 9,
   "id": "8b425eb5",
   "metadata": {},
   "outputs": [],
   "source": [
    "if not ('sc' in locals() or 'sc' in globals()):\n",
    "    from pyspark import SparkContext, SparkConf\n",
    "    from pyspark.sql import SparkSession\n",
    "    \n",
    "    conf = SparkConf()\n",
    "    conf.setMaster('spark://spark-master:7077')\n",
    "    conf.set('spark.executor.memory', '512m')\n",
    "    conf.set('spark.app.name', 'basics')\n",
    "\n",
    "\n",
    "    sc = SparkContext.getOrCreate(SparkContext(conf=conf))\n",
    "    \n",
    "    spark = SparkSession \\\n",
    "        .builder \\\n",
    "        .getOrCreate()"
   ]
  },
  {
   "cell_type": "markdown",
   "id": "d58b7a77",
   "metadata": {},
   "source": [
    "## Context\n",
    "### Exercise 1\n",
    "__We want to know the 25 most rated movie titles from this data. How many times a movie has been rated?__\n",
    "\n",
    "#### Users\n",
    "Users: This file name is kept as “u.user”, The columns in this file are:\n",
    "\n",
    "```python\n",
    "['user_id', 'age', 'sex', 'occupation', 'zip_code']\n",
    "```\n",
    "\n",
    "#### Ratings\n",
    "Ratings: This file name is kept as “u.data”, The columns in this file are:\n",
    "\n",
    "```python\n",
    "['user_id', 'movie_id', 'rating', 'unix_timestamp']\n",
    "```\n",
    "\n",
    "#### Movies\n",
    "Movies: This file name is kept as “u.item”, The columns in this file are:\n",
    "\n",
    "```python\n",
    "['movie_id', 'title', 'release_date', 'video_release_date', 'imdb_url', and 18 more columns.....]\n",
    "```"
   ]
  },
  {
   "cell_type": "markdown",
   "id": "ece81c1a",
   "metadata": {},
   "source": [
    "#### Load data\n",
    "The firs step is to see how the data looks like"
   ]
  },
  {
   "cell_type": "code",
   "execution_count": 15,
   "id": "0f52de22",
   "metadata": {},
   "outputs": [
    {
     "data": {
      "text/plain": [
       "['1|24|M|technician|85711']"
      ]
     },
     "execution_count": 15,
     "metadata": {},
     "output_type": "execute_result"
    }
   ],
   "source": [
    "userRDD = sc.textFile(\"../data/u.user\")\n",
    "userRDD.take(1)"
   ]
  },
  {
   "cell_type": "code",
   "execution_count": 16,
   "id": "aff5b782",
   "metadata": {},
   "outputs": [
    {
     "data": {
      "text/plain": [
       "['196\\t242\\t3\\t881250949']"
      ]
     },
     "execution_count": 16,
     "metadata": {},
     "output_type": "execute_result"
    }
   ],
   "source": [
    "ratingRDD = sc.textFile(\"../data/u.data\")\n",
    "ratingRDD.take(1)"
   ]
  },
  {
   "cell_type": "code",
   "execution_count": 17,
   "id": "7d3c4d82",
   "metadata": {},
   "outputs": [
    {
     "data": {
      "text/plain": [
       "['1|Toy Story (1995)|01-Jan-1995||http://us.imdb.com/M/title-exact?Toy%20Story%20(1995)|0|0|0|1|1|1|0|0|0|0|0|0|0|0|0|0|0|0|0']"
      ]
     },
     "execution_count": 17,
     "metadata": {},
     "output_type": "execute_result"
    }
   ],
   "source": [
    "movieRDD = sc.textFile(\"../data/u.item\")\n",
    "movieRDD.take(1)"
   ]
  },
  {
   "cell_type": "markdown",
   "id": "2c704642",
   "metadata": {},
   "source": [
    "#### Process\n",
    "\n",
    "After looking the shape of the data we want to convert this raw data into a format easy to handle"
   ]
  },
  {
   "cell_type": "code",
   "execution_count": 21,
   "id": "013e1b9a",
   "metadata": {},
   "outputs": [
    {
     "data": {
      "text/plain": [
       "[('196', '242')]"
      ]
     },
     "execution_count": 21,
     "metadata": {},
     "output_type": "execute_result"
    }
   ],
   "source": [
    "# Create a RDD from RatingRDD that only contains the two columns of interest i.e. movie_id,rating.\n",
    "RDD_movid_rating = ratingRDD.map(lambda x: (x.split('\\t')[0], x.split('\\t')[1]))\n",
    "RDD_movid_rating.take(1)"
   ]
  },
  {
   "cell_type": "code",
   "execution_count": 22,
   "id": "a09cafc1",
   "metadata": {},
   "outputs": [
    {
     "data": {
      "text/plain": [
       "[('1', 'Toy Story (1995)')]"
      ]
     },
     "execution_count": 22,
     "metadata": {},
     "output_type": "execute_result"
    }
   ],
   "source": [
    "# Create a RDD from MovieRDD that only contains the two columns of interest i.e. movie_id,title.\n",
    "RDD_movid_title = movieRDD.map(lambda x: (x.split('|')[0], x.split('|')[1]))\n",
    "RDD_movid_title.take(1)"
   ]
  },
  {
   "cell_type": "markdown",
   "id": "b854c773",
   "metadata": {},
   "source": [
    "#### Merge\n",
    "\n",
    "Merge these two pair RDDs based on movie_id. For this we will use the transformation [leftOuterJoin()](https://spark.apache.org/docs/3.1.1/api/python/reference/api/pyspark.RDD.leftOuterJoin.html)"
   ]
  },
  {
   "cell_type": "code",
   "execution_count": 24,
   "id": "4672803d",
   "metadata": {},
   "outputs": [
    {
     "name": "stderr",
     "output_type": "stream",
     "text": [
      "                                                                                \r"
     ]
    },
    {
     "data": {
      "text/plain": [
       "[('244', ('51', \"Smilla's Sense of Snow (1997)\")),\n",
       " ('244', ('815', \"Smilla's Sense of Snow (1997)\")),\n",
       " ('244', ('756', \"Smilla's Sense of Snow (1997)\"))]"
      ]
     },
     "execution_count": 24,
     "metadata": {},
     "output_type": "execute_result"
    }
   ],
   "source": [
    "rdd_movid_title_rating = RDD_movid_rating.leftOuterJoin(RDD_movid_title)\n",
    "rdd_movid_title_rating.take(3)"
   ]
  },
  {
   "cell_type": "markdown",
   "id": "1102d161",
   "metadata": {},
   "source": [
    "Use the RDD in previous step to create (movie, 1) tuple pair RDD"
   ]
  },
  {
   "cell_type": "code",
   "execution_count": 27,
   "id": "ca657352",
   "metadata": {},
   "outputs": [
    {
     "data": {
      "text/plain": [
       "[(\"Smilla's Sense of Snow (1997)\", 1),\n",
       " (\"Smilla's Sense of Snow (1997)\", 1),\n",
       " (\"Smilla's Sense of Snow (1997)\", 1),\n",
       " (\"Smilla's Sense of Snow (1997)\", 1),\n",
       " (\"Smilla's Sense of Snow (1997)\", 1)]"
      ]
     },
     "execution_count": 27,
     "metadata": {},
     "output_type": "execute_result"
    }
   ],
   "source": [
    "rdd_title_rating = rdd_movid_title_rating.map(lambda x: (x[1][1], 1))\n",
    "rdd_title_rating.take(5)"
   ]
  },
  {
   "cell_type": "markdown",
   "id": "2eda83e5",
   "metadata": {},
   "source": [
    "Use the reduceByKey transformation to reduce on the basis of movie_title"
   ]
  },
  {
   "cell_type": "code",
   "execution_count": null,
   "id": "843de34e",
   "metadata": {},
   "outputs": [],
   "source": [
    "rdd_title_ratingcnt = rdd_title_rating"
   ]
  },
  {
   "cell_type": "code",
   "execution_count": null,
   "id": "e3a9bbf5",
   "metadata": {},
   "outputs": [],
   "source": [
    "for movie in rdd_title_ratingcnt"
   ]
  },
  {
   "cell_type": "markdown",
   "id": "e27624d5",
   "metadata": {},
   "source": [
    "### Exercise 2\n",
    "\n",
    "__Join all the sentences into a joined one__"
   ]
  },
  {
   "cell_type": "code",
   "execution_count": 28,
   "id": "6090b7c1",
   "metadata": {},
   "outputs": [
    {
     "name": "stderr",
     "output_type": "stream",
     "text": [
      "                                                                                \r"
     ]
    }
   ],
   "source": [
    "top = (((ratingRDD.map(lambda x : (x.split(\"\\t\")[1],\n",
    "                                   x.split(\"\\t\")[2]\n",
    "                                  )\n",
    "                      )\n",
    "        )\n",
    "        .leftOuterJoin(movieRDD.map(lambda x : (x.split(\"|\")[0],\n",
    "                                                x.split(\"|\")[1]\n",
    "                                               )\n",
    "                                   )\n",
    "                      )\n",
    "       )\n",
    "       .map(lambda x: (x[1][1],\n",
    "                       1)\n",
    "           )\n",
    "       .reduceByKey(lambda x,y: x+y)\n",
    "       .takeOrdered(25,lambda x:-x[1])\n",
    "      )"
   ]
  },
  {
   "cell_type": "code",
   "execution_count": 29,
   "id": "8ef8295b",
   "metadata": {},
   "outputs": [
    {
     "name": "stdout",
     "output_type": "stream",
     "text": [
      "('Star Wars (1977)', 583)\n",
      "('Contact (1997)', 509)\n",
      "('Fargo (1996)', 508)\n",
      "('Return of the Jedi (1983)', 507)\n",
      "('Liar Liar (1997)', 485)\n",
      "('English Patient, The (1996)', 481)\n",
      "('Scream (1996)', 478)\n",
      "('Toy Story (1995)', 452)\n",
      "('Air Force One (1997)', 431)\n",
      "('Independence Day (ID4) (1996)', 429)\n",
      "('Raiders of the Lost Ark (1981)', 420)\n",
      "('Godfather, The (1972)', 413)\n",
      "('Pulp Fiction (1994)', 394)\n",
      "('Twelve Monkeys (1995)', 392)\n",
      "('Silence of the Lambs, The (1991)', 390)\n",
      "('Jerry Maguire (1996)', 384)\n",
      "('Chasing Amy (1997)', 379)\n",
      "('Rock, The (1996)', 378)\n",
      "('Empire Strikes Back, The (1980)', 367)\n",
      "('Star Trek: First Contact (1996)', 365)\n",
      "('Back to the Future (1985)', 350)\n",
      "('Titanic (1997)', 350)\n",
      "('Mission: Impossible (1996)', 344)\n",
      "('Fugitive, The (1993)', 336)\n",
      "('Indiana Jones and the Last Crusade (1989)', 331)\n"
     ]
    }
   ],
   "source": [
    "for movies in top:\n",
    "    print(movies)"
   ]
  },
  {
   "cell_type": "markdown",
   "id": "8ec9e917",
   "metadata": {},
   "source": [
    "### Exercise 3\n",
    "\n",
    "__Now we want to find the most highly rated 25 movies using the same dataset. We actually want only those movies which have been rated at least 100 times.__"
   ]
  },
  {
   "cell_type": "markdown",
   "id": "4246bf82",
   "metadata": {},
   "source": [
    "We already have the RDD rdd_movid_title_rating:"
   ]
  },
  {
   "cell_type": "code",
   "execution_count": 30,
   "id": "d11a07c4",
   "metadata": {},
   "outputs": [
    {
     "data": {
      "text/plain": [
       "[('244', ('51', \"Smilla's Sense of Snow (1997)\")),\n",
       " ('244', ('815', \"Smilla's Sense of Snow (1997)\"))]"
      ]
     },
     "execution_count": 30,
     "metadata": {},
     "output_type": "execute_result"
    }
   ],
   "source": [
    "rdd_movid_title_rating.take(2)"
   ]
  },
  {
   "cell_type": "code",
   "execution_count": null,
   "id": "b55da4ff",
   "metadata": {},
   "outputs": [],
   "source": []
  },
  {
   "cell_type": "markdown",
   "id": "8b604d24",
   "metadata": {},
   "source": [
    "We create an RDD that contains sum of all the ratings for a particular movie"
   ]
  },
  {
   "cell_type": "code",
   "execution_count": null,
   "id": "35718ed9",
   "metadata": {},
   "outputs": [],
   "source": [
    "rdd_title_ratingsum = (rdd_movid_title_rating\n",
    "                       .map(lambda x: (x[1][1], \n",
    "                                       int(x[1][0])\n",
    "                                      )\n",
    "                           )\n",
    "                       .reduceByKey(lambda x, y: x + y)\n",
    "                      )\n",
    "rdd_title_ratingsum.take(2)"
   ]
  },
  {
   "cell_type": "code",
   "execution_count": null,
   "id": "5bbd71ee",
   "metadata": {},
   "outputs": [],
   "source": [
    "['nombre', ['rating', 'count']]\n",
    "\n",
    "['nombre', ['avg rating', 'count']]\n",
    "\n",
    "'avg rating' = 'rating' / 'count'\n",
    "\n",
    "['nombre', ['rating' / 'count', 'count']]"
   ]
  },
  {
   "cell_type": "markdown",
   "id": "fd7f59d0",
   "metadata": {},
   "source": [
    "Merge this data with the RDD rdd_title_ratingcnt we created in the last step\n",
    "\n",
    "\n",
    "And use Map function to divide ratingsum by rating count."
   ]
  },
  {
   "cell_type": "code",
   "execution_count": null,
   "id": "0e3c02db",
   "metadata": {},
   "outputs": [],
   "source": [
    "rdd_title_ratingmean_rating_count = "
   ]
  },
  {
   "cell_type": "markdown",
   "id": "f3d3aa4b",
   "metadata": {},
   "source": [
    "We could use take ordered here only but we want to only get the movies which have count\n",
    "\n",
    "of ratings more than or equal to 100 so lets filter the data RDD."
   ]
  },
  {
   "cell_type": "code",
   "execution_count": null,
   "id": "fce1d566",
   "metadata": {},
   "outputs": [],
   "source": [
    "rdd_title_rating_rating_count_gt_100 = "
   ]
  },
  {
   "cell_type": "code",
   "execution_count": null,
   "id": "4527811c",
   "metadata": {},
   "outputs": [],
   "source": [
    "print(\"rdd_title_rating_rating_count_gt_100: \", rdd_title_rating_rating_count_gt_100.take(1))\n"
   ]
  },
  {
   "cell_type": "code",
   "execution_count": null,
   "id": "0a55f1c8",
   "metadata": {},
   "outputs": [],
   "source": [
    "print (\"25 highly rated movies:\")\n",
    "for i in rdd_title_rating_rating_count_gt_100.takeOrdered(25, lambda x:-x[1][0]):\n",
    "    print(i)"
   ]
  }
 ],
 "metadata": {
  "kernelspec": {
   "display_name": "Python 3 (ipykernel)",
   "language": "python",
   "name": "python3"
  },
  "language_info": {
   "codemirror_mode": {
    "name": "ipython",
    "version": 3
   },
   "file_extension": ".py",
   "mimetype": "text/x-python",
   "name": "python",
   "nbconvert_exporter": "python",
   "pygments_lexer": "ipython3",
   "version": "3.9.2"
  }
 },
 "nbformat": 4,
 "nbformat_minor": 5
}
