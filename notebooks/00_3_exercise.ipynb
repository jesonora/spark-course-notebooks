{
 "cells": [
  {
   "cell_type": "markdown",
   "id": "217f9e63",
   "metadata": {},
   "source": [
    "## Movielens"
   ]
  },
  {
   "cell_type": "code",
   "execution_count": null,
   "id": "7c574b9e",
   "metadata": {},
   "outputs": [],
   "source": [
    "import pandas as pd\n",
    "import numpy as np\n",
    "import os\n",
    "import warnings\n",
    "import datetime\n",
    "\n",
    "pd.set_option('display.float_format', lambda x : '{:,.2f}'.format(x))\n",
    "warnings.filterwarnings(\"ignore\")\n",
    "pd.set_option('display.max_columns', None)"
   ]
  },
  {
   "cell_type": "code",
   "execution_count": null,
   "id": "8b425eb5",
   "metadata": {},
   "outputs": [],
   "source": [
    "if not ('sc' in locals() or 'sc' in globals()):\n",
    "    from pyspark import SparkContext, SparkConf\n",
    "    from pyspark.sql import SparkSession\n",
    "    \n",
    "    conf = SparkConf()\n",
    "    conf.setMaster('spark://spark-master:7077')\n",
    "    conf.set('spark.executor.memory', '512m')\n",
    "    conf.set('spark.app.name', 'basics')\n",
    "\n",
    "\n",
    "    sc = SparkContext.getOrCreate(SparkContext(conf=conf))\n",
    "    \n",
    "    spark = SparkSession \\\n",
    "        .builder \\\n",
    "        .getOrCreate()"
   ]
  },
  {
   "cell_type": "markdown",
   "id": "d58b7a77",
   "metadata": {},
   "source": [
    "## Context\n",
    "### Exercise 1\n",
    "__We want to know the 25 most rated movie titles from this data. How many times a movie has been rated?__\n",
    "\n",
    "#### Users\n",
    "Users: This file name is kept as “u.user”, The columns in this file are:\n",
    "\n",
    "```python\n",
    "['user_id', 'age', 'sex', 'occupation', 'zip_code']\n",
    "```\n",
    "\n",
    "#### Ratings\n",
    "Ratings: This file name is kept as “u.data”, The columns in this file are:\n",
    "\n",
    "```python\n",
    "['user_id', 'movie_id', 'rating', 'unix_timestamp']\n",
    "```\n",
    "\n",
    "#### Movies\n",
    "Movies: This file name is kept as “u.item”, The columns in this file are:\n",
    "\n",
    "```python\n",
    "['movie_id', 'title', 'release_date', 'video_release_date', 'imdb_url', and 18 more columns.....]\n",
    "```"
   ]
  },
  {
   "cell_type": "markdown",
   "id": "ece81c1a",
   "metadata": {},
   "source": [
    "#### Load data\n",
    "The firs step is to see how the data looks like"
   ]
  },
  {
   "cell_type": "code",
   "execution_count": null,
   "id": "0f52de22",
   "metadata": {},
   "outputs": [],
   "source": [
    "userRDD = "
   ]
  },
  {
   "cell_type": "code",
   "execution_count": null,
   "id": "aff5b782",
   "metadata": {},
   "outputs": [],
   "source": [
    "ratingRDD = "
   ]
  },
  {
   "cell_type": "code",
   "execution_count": null,
   "id": "7d3c4d82",
   "metadata": {},
   "outputs": [],
   "source": [
    "movieRDD = "
   ]
  },
  {
   "cell_type": "markdown",
   "id": "2c704642",
   "metadata": {},
   "source": [
    "#### Process\n",
    "\n",
    "After looking the shape of the data we want to convert this raw data into a format easy to handle"
   ]
  },
  {
   "cell_type": "code",
   "execution_count": null,
   "id": "013e1b9a",
   "metadata": {},
   "outputs": [],
   "source": [
    "# Create a RDD from RatingRDD that only contains the two columns of interest i.e. movie_id,rating.\n",
    "RDD_movid_rating = ratingRDD"
   ]
  },
  {
   "cell_type": "code",
   "execution_count": null,
   "id": "a09cafc1",
   "metadata": {},
   "outputs": [],
   "source": [
    "# Create a RDD from MovieRDD that only contains the two columns of interest i.e. movie_id,title.\n",
    "RDD_movid_title = movieRDD"
   ]
  },
  {
   "cell_type": "markdown",
   "id": "b854c773",
   "metadata": {},
   "source": [
    "#### Merge\n",
    "\n",
    "Merge these two pair RDDs based on movie_id. For this we will use the transformation [leftOuterJoin()](https://spark.apache.org/docs/3.1.1/api/python/reference/api/pyspark.RDD.leftOuterJoin.html)"
   ]
  },
  {
   "cell_type": "code",
   "execution_count": null,
   "id": "4672803d",
   "metadata": {},
   "outputs": [],
   "source": [
    "rdd_movid_title_rating = RDD_movid_rating"
   ]
  },
  {
   "cell_type": "markdown",
   "id": "1102d161",
   "metadata": {},
   "source": [
    "Use the RDD in previous step to create (movie, 1) tuple pair RDD"
   ]
  },
  {
   "cell_type": "code",
   "execution_count": null,
   "id": "ca657352",
   "metadata": {},
   "outputs": [],
   "source": [
    "rdd_title_rating = rdd_movid_title_rating"
   ]
  },
  {
   "cell_type": "markdown",
   "id": "2eda83e5",
   "metadata": {},
   "source": [
    "Use the reduceByKey transformation to reduce on the basis of movie_title"
   ]
  },
  {
   "cell_type": "code",
   "execution_count": null,
   "id": "843de34e",
   "metadata": {},
   "outputs": [],
   "source": [
    "rdd_title_ratingcnt = rdd_title_rating"
   ]
  },
  {
   "cell_type": "code",
   "execution_count": null,
   "id": "e3a9bbf5",
   "metadata": {},
   "outputs": [],
   "source": [
    "for movie in rdd_title_ratingcnt"
   ]
  },
  {
   "cell_type": "markdown",
   "id": "e27624d5",
   "metadata": {},
   "source": [
    "### Exercise 2\n",
    "\n",
    "__Join all the sentences into a joined one__"
   ]
  },
  {
   "cell_type": "code",
   "execution_count": null,
   "id": "6090b7c1",
   "metadata": {},
   "outputs": [],
   "source": [
    "top = "
   ]
  },
  {
   "cell_type": "code",
   "execution_count": null,
   "id": "8ef8295b",
   "metadata": {},
   "outputs": [],
   "source": [
    "for movies in top:\n",
    "    print(movies)"
   ]
  },
  {
   "cell_type": "markdown",
   "id": "8ec9e917",
   "metadata": {},
   "source": [
    "### Exercise 3\n",
    "\n",
    "__Now we want to find the most highly rated 25 movies using the same dataset. We actually want only those movies which have been rated at least 100 times.__"
   ]
  },
  {
   "cell_type": "markdown",
   "id": "4246bf82",
   "metadata": {},
   "source": [
    "We already have the RDD rdd_movid_title_rating:"
   ]
  },
  {
   "cell_type": "code",
   "execution_count": null,
   "id": "d11a07c4",
   "metadata": {},
   "outputs": [],
   "source": [
    "rdd_movid_title_rating.take(2)"
   ]
  },
  {
   "cell_type": "markdown",
   "id": "8b604d24",
   "metadata": {},
   "source": [
    "We create an RDD that contains sum of all the ratings for a particular movie"
   ]
  },
  {
   "cell_type": "code",
   "execution_count": null,
   "id": "35718ed9",
   "metadata": {},
   "outputs": [],
   "source": [
    "rdd_title_ratingsum = "
   ]
  },
  {
   "cell_type": "markdown",
   "id": "fd7f59d0",
   "metadata": {},
   "source": [
    "Merge this data with the RDD rdd_title_ratingcnt we created in the last step\n",
    "\n",
    "\n",
    "And use Map function to divide ratingsum by rating count."
   ]
  },
  {
   "cell_type": "code",
   "execution_count": null,
   "id": "0e3c02db",
   "metadata": {},
   "outputs": [],
   "source": [
    "rdd_title_ratingmean_rating_count = "
   ]
  },
  {
   "cell_type": "markdown",
   "id": "f3d3aa4b",
   "metadata": {},
   "source": [
    "We could use take ordered here only but we want to only get the movies which have count\n",
    "\n",
    "of ratings more than or equal to 100 so lets filter the data RDD."
   ]
  },
  {
   "cell_type": "code",
   "execution_count": null,
   "id": "fce1d566",
   "metadata": {},
   "outputs": [],
   "source": [
    "rdd_title_rating_rating_count_gt_100 = "
   ]
  },
  {
   "cell_type": "code",
   "execution_count": null,
   "id": "4527811c",
   "metadata": {},
   "outputs": [],
   "source": [
    "print(\"rdd_title_rating_rating_count_gt_100: \", rdd_title_rating_rating_count_gt_100.take(1))\n"
   ]
  },
  {
   "cell_type": "code",
   "execution_count": null,
   "id": "0a55f1c8",
   "metadata": {},
   "outputs": [],
   "source": [
    "print (\"25 highly rated movies:\")\n",
    "for i in rdd_title_rating_rating_count_gt_100.takeOrdered(25, lambda x:-x[1][0]):\n",
    "    print(i)"
   ]
  }
 ],
 "metadata": {
  "kernelspec": {
   "display_name": "Python 3 (ipykernel)",
   "language": "python",
   "name": "python3"
  },
  "language_info": {
   "codemirror_mode": {
    "name": "ipython",
    "version": 3
   },
   "file_extension": ".py",
   "mimetype": "text/x-python",
   "name": "python",
   "nbconvert_exporter": "python",
   "pygments_lexer": "ipython3",
   "version": "3.9.2"
  }
 },
 "nbformat": 4,
 "nbformat_minor": 5
}
