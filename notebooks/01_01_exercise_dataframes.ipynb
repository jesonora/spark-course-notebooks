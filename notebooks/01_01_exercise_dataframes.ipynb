{
 "cells": [
  {
   "cell_type": "markdown",
   "id": "217f9e63",
   "metadata": {},
   "source": [
    "## Movielens"
   ]
  },
  {
   "cell_type": "code",
   "execution_count": null,
   "id": "7c574b9e",
   "metadata": {},
   "outputs": [],
   "source": [
    "import pandas as pd\n",
    "import numpy as np\n",
    "import os\n",
    "import warnings\n",
    "import datetime\n",
    "\n",
    "pd.set_option('display.float_format', lambda x : '{:,.2f}'.format(x))\n",
    "warnings.filterwarnings(\"ignore\")\n",
    "pd.set_option('display.max_columns', None)"
   ]
  },
  {
   "cell_type": "code",
   "execution_count": null,
   "id": "8b425eb5",
   "metadata": {},
   "outputs": [],
   "source": [
    "if not ('sc' in locals() or 'sc' in globals()):\n",
    "    from pyspark import SparkContext, SparkConf\n",
    "    from pyspark.sql import SparkSession\n",
    "    \n",
    "    conf = SparkConf()\n",
    "    conf.setMaster('spark://spark-master:7077')\n",
    "    conf.set('spark.executor.memory', '512m')\n",
    "    conf.set('spark.app.name', 'basics')\n",
    "\n",
    "\n",
    "    sc = SparkContext.getOrCreate(SparkContext(conf=conf))\n",
    "    \n",
    "    spark = SparkSession \\\n",
    "        .builder \\\n",
    "        .getOrCreate()"
   ]
  },
  {
   "cell_type": "markdown",
   "id": "d58b7a77",
   "metadata": {},
   "source": [
    "## Context\n",
    "### Exercise 1\n",
    "__We want to know the 25 most rated movie titles from this data. How many times a movie has been rated?__\n",
    "\n",
    "#### Users\n",
    "Users: This file name is kept as “u.user”, The columns in this file are:\n",
    "\n",
    "```python\n",
    "['user_id', 'age', 'sex', 'occupation', 'zip_code']\n",
    "```\n",
    "\n",
    "#### Ratings\n",
    "Ratings: This file name is kept as “u.data”, The columns in this file are:\n",
    "\n",
    "```python\n",
    "['user_id', 'movie_id', 'rating', 'unix_timestamp']\n",
    "```\n",
    "\n",
    "#### Movies\n",
    "Movies: This file name is kept as “u.item”, The columns in this file are:\n",
    "\n",
    "```python\n",
    "['movie_id', 'title', 'release_date', 'video_release_date', 'imdb_url', and 18 more columns.....]\n",
    "```"
   ]
  },
  {
   "cell_type": "markdown",
   "id": "ece81c1a",
   "metadata": {},
   "source": [
    "#### Load data\n",
    "The firs step is to see how the data looks like\n",
    "\n",
    "More info: https://docs.databricks.com/spark/latest/dataframes-datasets/introduction-to-dataframes-python.html#dataframe-faqs"
   ]
  },
  {
   "cell_type": "code",
   "execution_count": null,
   "id": "0f52de22",
   "metadata": {},
   "outputs": [],
   "source": [
    "userRDD = sc.textFile(\"../data/u.user\") \n",
    "userRDD.take(1)"
   ]
  },
  {
   "cell_type": "code",
   "execution_count": null,
   "id": "bf041a44",
   "metadata": {},
   "outputs": [],
   "source": [
    "df_user = "
   ]
  },
  {
   "cell_type": "code",
   "execution_count": null,
   "id": "817ce887",
   "metadata": {},
   "outputs": [],
   "source": [
    "df_user.show(5)"
   ]
  },
  {
   "cell_type": "code",
   "execution_count": null,
   "id": "aff5b782",
   "metadata": {},
   "outputs": [],
   "source": [
    "ratingRDD = sc.textFile(\"../data/u.data\") \n",
    "ratingRDD.take(1)"
   ]
  },
  {
   "cell_type": "code",
   "execution_count": null,
   "id": "5c8c341e",
   "metadata": {},
   "outputs": [],
   "source": [
    "df_rating = "
   ]
  },
  {
   "cell_type": "code",
   "execution_count": null,
   "id": "ad0d1782",
   "metadata": {},
   "outputs": [],
   "source": [
    "df_rating.show(5)"
   ]
  },
  {
   "cell_type": "code",
   "execution_count": null,
   "id": "7d3c4d82",
   "metadata": {},
   "outputs": [],
   "source": [
    "movieRDD = sc.textFile(\"../data/u.item\") \n",
    "movieRDD.take(1)"
   ]
  },
  {
   "cell_type": "code",
   "execution_count": null,
   "id": "a262499d",
   "metadata": {},
   "outputs": [],
   "source": [
    "df_movie = "
   ]
  },
  {
   "cell_type": "code",
   "execution_count": null,
   "id": "f6323700",
   "metadata": {},
   "outputs": [],
   "source": [
    "df_movie.limit(5).toPandas()"
   ]
  },
  {
   "cell_type": "markdown",
   "id": "b854c773",
   "metadata": {},
   "source": [
    "#### Merge\n"
   ]
  },
  {
   "cell_type": "code",
   "execution_count": null,
   "id": "4672803d",
   "metadata": {},
   "outputs": [],
   "source": [
    "rating_movie = "
   ]
  },
  {
   "cell_type": "code",
   "execution_count": null,
   "id": "75be44ba",
   "metadata": {},
   "outputs": [],
   "source": [
    "rating_movie.show(5, truncate=True)"
   ]
  },
  {
   "cell_type": "markdown",
   "id": "1102d161",
   "metadata": {},
   "source": [
    "Use the RDD in previous step to create (movie, 1) tuple pair RDD"
   ]
  },
  {
   "cell_type": "code",
   "execution_count": null,
   "id": "ca657352",
   "metadata": {},
   "outputs": [],
   "source": [
    "from pyspark.sql.functions import count, col\n"
   ]
  },
  {
   "cell_type": "markdown",
   "id": "8ec9e917",
   "metadata": {},
   "source": [
    "### Exercise 2\n",
    "\n",
    "__Now we want to find the most highly rated 25 movies using the same dataset. We actually want only those movies which have been rated at least 100 times.__"
   ]
  },
  {
   "cell_type": "code",
   "execution_count": null,
   "id": "7ac82be7",
   "metadata": {},
   "outputs": [],
   "source": [
    "from pyspark.sql.functions import sum\n"
   ]
  }
 ],
 "metadata": {
  "kernelspec": {
   "display_name": "Python 3 (ipykernel)",
   "language": "python",
   "name": "python3"
  },
  "language_info": {
   "codemirror_mode": {
    "name": "ipython",
    "version": 3
   },
   "file_extension": ".py",
   "mimetype": "text/x-python",
   "name": "python",
   "nbconvert_exporter": "python",
   "pygments_lexer": "ipython3",
   "version": "3.9.2"
  }
 },
 "nbformat": 4,
 "nbformat_minor": 5
}
